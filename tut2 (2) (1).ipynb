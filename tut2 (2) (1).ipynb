{
  "nbformat": 4,
  "nbformat_minor": 0,
  "metadata": {
    "colab": {
      "name": "tut2.ipynb",
      "provenance": [],
      "collapsed_sections": []
    },
    "kernelspec": {
      "name": "python3",
      "display_name": "Python 3"
    }
  },
  "cells": [
    {
      "cell_type": "code",
      "metadata": {
        "id": "GVDakYAdxacK"
      },
      "source": [
        "import numpy as np"
      ],
      "execution_count": 1,
      "outputs": []
    },
    {
      "cell_type": "code",
      "metadata": {
        "id": "ARJrX8DtxtiJ"
      },
      "source": [
        "a= np.array([1,2,3])\r\n",
        "b= np.array([1.2,1.9,3.2])"
      ],
      "execution_count": 2,
      "outputs": []
    },
    {
      "cell_type": "code",
      "metadata": {
        "id": "NaKKpn3LxxLQ"
      },
      "source": [
        "c= len(a)"
      ],
      "execution_count": 3,
      "outputs": []
    },
    {
      "cell_type": "code",
      "metadata": {
        "id": "KyVNdiH2x1Fr"
      },
      "source": [
        "def weights(a,b):\r\n",
        "    sum_ab = np.dot(a,np.transpose(b)) \r\n",
        "    sum_a = a.sum()\r\n",
        "    sum_b = b.sum()\r\n",
        "    sum_aat = np.dot(a, np.transpose(a))\r\n",
        "    w1=((c*sum_ab)-(sum_a*sum_b))/((c*sum_aat)-(sum_a**2))\r\n",
        "    w0=((sum_b*sum_aat)-(sum_ab*sum_a))/((c*sum_aat)-(sum_a**2))\r\n",
        "    return w0,w1"
      ],
      "execution_count": 6,
      "outputs": []
    },
    {
      "cell_type": "code",
      "metadata": {
        "id": "iVrbMs4Gx5B7"
      },
      "source": [
        "w0,w1 = weights(a,b)"
      ],
      "execution_count": 7,
      "outputs": []
    },
    {
      "cell_type": "code",
      "metadata": {
        "colab": {
          "base_uri": "https://localhost:8080/"
        },
        "id": "S10Ba9pfx9cg",
        "outputId": "5d4ef255-667d-4d87-a4af-0d33778423e9"
      },
      "source": [
        "w0"
      ],
      "execution_count": 8,
      "outputs": [
        {
          "output_type": "execute_result",
          "data": {
            "text/plain": [
              "0.09999999999999905"
            ]
          },
          "metadata": {
            "tags": []
          },
          "execution_count": 8
        }
      ]
    },
    {
      "cell_type": "code",
      "metadata": {
        "colab": {
          "base_uri": "https://localhost:8080/"
        },
        "id": "kz3-0nkzykpM",
        "outputId": "ffbc0622-4788-4ead-defa-00eac1e66e1c"
      },
      "source": [
        "w1"
      ],
      "execution_count": 9,
      "outputs": [
        {
          "output_type": "execute_result",
          "data": {
            "text/plain": [
              "1.000000000000001"
            ]
          },
          "metadata": {
            "tags": []
          },
          "execution_count": 9
        }
      ]
    },
    {
      "cell_type": "code",
      "metadata": {
        "colab": {
          "base_uri": "https://localhost:8080/"
        },
        "id": "3qOFKILEymB8",
        "outputId": "9699d887-8c45-4744-bcc3-5d18dee2259d"
      },
      "source": [
        "b_pred = []\r\n",
        "for i in range(0,c):\r\n",
        "  temp = w0 + w1*a[i]\r\n",
        "  b_pred.append(temp)\r\n",
        "b_pred = np.array(b_pred)\r\n",
        "b_pred"
      ],
      "execution_count": 10,
      "outputs": [
        {
          "output_type": "execute_result",
          "data": {
            "text/plain": [
              "array([1.1, 2.1, 3.1])"
            ]
          },
          "metadata": {
            "tags": []
          },
          "execution_count": 10
        }
      ]
    },
    {
      "cell_type": "code",
      "metadata": {
        "colab": {
          "base_uri": "https://localhost:8080/",
          "height": 370
        },
        "id": "33wu43bj0MyM",
        "outputId": "929857bc-ee30-4de2-8a13-8b1de4cfda39"
      },
      "source": [
        "import seaborn as sns\r\n",
        "import matplotlib.pyplot as plt\r\n",
        "%matplotlib inline\r\n",
        "sns.lineplot(a,b_pred)\r\n",
        "sns.scatterplot(a,b,color='blue')"
      ],
      "execution_count": 11,
      "outputs": [
        {
          "output_type": "stream",
          "text": [
            "/usr/local/lib/python3.6/dist-packages/seaborn/_decorators.py:43: FutureWarning: Pass the following variables as keyword args: x, y. From version 0.12, the only valid positional argument will be `data`, and passing other arguments without an explicit keyword will result in an error or misinterpretation.\n",
            "  FutureWarning\n",
            "/usr/local/lib/python3.6/dist-packages/seaborn/_decorators.py:43: FutureWarning: Pass the following variables as keyword args: x, y. From version 0.12, the only valid positional argument will be `data`, and passing other arguments without an explicit keyword will result in an error or misinterpretation.\n",
            "  FutureWarning\n"
          ],
          "name": "stderr"
        },
        {
          "output_type": "execute_result",
          "data": {
            "text/plain": [
              "<matplotlib.axes._subplots.AxesSubplot at 0x7f3d4ec6e400>"
            ]
          },
          "metadata": {
            "tags": []
          },
          "execution_count": 11
        },
        {
          "output_type": "display_data",
          "data": {
            "image/png": "[encoded data removed]",
            "text/plain": [
              "<Figure size 432x288 with 1 Axes>"
            ]
          },
          "metadata": {
            "tags": [],
            "needs_background": "light"
          }
        }
      ]
    },
    {
      "cell_type": "code",
      "metadata": {
        "id": "-vMP2rhF1aEb"
      },
      "source": [
        ""
      ],
      "execution_count": null,
      "outputs": []
    }
  ]
}